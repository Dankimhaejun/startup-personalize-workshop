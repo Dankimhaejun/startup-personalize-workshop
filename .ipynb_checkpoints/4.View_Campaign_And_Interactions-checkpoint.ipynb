{
 "cells": [
  {
   "cell_type": "markdown",
   "metadata": {},
   "source": [
    "# Module 4. Personalize 캠페인과 실시간 상호 작용 하기\n",
    "\n",
    "이 노트북은 사용자의 실시간 행동에 반응하는 기능을 추가하는 과정을 안내합니다. 영화를 탐색하는 동안 사용자의 의도가 변경되면, 해당 동작에 따라 수정된 추천 영화 목록들이 표시됩니다.\n",
    "\n",
    "또한 추천 결과가 반환되기 전, 영화를 선택하는 사용자 행동을 시뮬레이션하기 위한 데모 코드를 보여줍니다."
   ]
  },
  {
   "cell_type": "markdown",
   "metadata": {},
   "source": [
    "우선, Personalize에 필요한 라이브러리를 가져 오는 것부터 시작합니다."
   ]
  },
  {
   "cell_type": "code",
   "execution_count": 123,
   "metadata": {},
   "outputs": [],
   "source": [
    "# Imports\n",
    "import boto3\n",
    "import json\n",
    "import numpy as np\n",
    "import pandas as pd\n",
    "import time\n",
    "import uuid"
   ]
  },
  {
   "cell_type": "markdown",
   "metadata": {},
   "source": [
    "아래 코드 셀은 이전 notebook에서 저장했던 공유 변수들을 불러옵니다."
   ]
  },
  {
   "cell_type": "code",
   "execution_count": 124,
   "metadata": {},
   "outputs": [],
   "source": [
    "%store -r\n"
   ]
  },
  {
   "cell_type": "markdown",
   "metadata": {},
   "source": [
    "생성할 오브젝트의 끝에 임의의 숫자를 부여하기 위해 suffix 정의"
   ]
  },
  {
   "cell_type": "code",
   "execution_count": 125,
   "metadata": {},
   "outputs": [],
   "source": [
    "suffix = str(np.random.uniform())[4:9]"
   ]
  },
  {
   "cell_type": "code",
   "execution_count": 126,
   "metadata": {},
   "outputs": [],
   "source": [
    "# Setup and Config\n",
    "# Recommendations from Event data\n",
    "personalize = boto3.client('personalize')\n",
    "personalize_runtime = boto3.client('personalize-runtime')\n",
    "\n",
    "# Establish a connection to Personalize's Event Streaming\n",
    "personalize_events = boto3.client(service_name='personalize-events')"
   ]
  },
  {
   "cell_type": "markdown",
   "metadata": {},
   "source": [
    "## 이벤트 추적기 생성\n",
    "\n",
    "추천 시스템이 실시간 이벤트에 응답하기 전에 이벤트 추적기(Event Tracker)가 필요합니다. 아래 코드 셀에서 이벤트 추적기 하나를 생성하고 이 실습에서 계속 사용하겠습니다. 이벤트 추적기 이름을 `MovieClickTracker`로 부여하였지만, 여러분들이 자유롭게 지정하실 수 있습니다."
   ]
  },
  {
   "cell_type": "code",
   "execution_count": 96,
   "metadata": {},
   "outputs": [
    {
     "ename": "ResourceAlreadyExistsException",
     "evalue": "An error occurred (ResourceAlreadyExistsException) when calling the CreateEventTracker operation: EventTracker arn:aws:personalize:ap-northeast-2:870180618679:event-tracker/ad7ff766 already exists for DatasetGroup arn:aws:personalize:ap-northeast-2:870180618679:dataset-group/DEMO-dataset-group-88138",
     "output_type": "error",
     "traceback": [
      "\u001b[0;31m---------------------------------------------------------------------------\u001b[0m",
      "\u001b[0;31mResourceAlreadyExistsException\u001b[0m            Traceback (most recent call last)",
      "\u001b[0;32m<ipython-input-96-28101b25e90a>\u001b[0m in \u001b[0;36m<module>\u001b[0;34m()\u001b[0m\n\u001b[1;32m      1\u001b[0m response = personalize.create_event_tracker(\n\u001b[1;32m      2\u001b[0m     \u001b[0mname\u001b[0m\u001b[0;34m=\u001b[0m\u001b[0;34m'MovieClickTracker'\u001b[0m\u001b[0;34m,\u001b[0m\u001b[0;34m\u001b[0m\u001b[0m\n\u001b[0;32m----> 3\u001b[0;31m     \u001b[0mdatasetGroupArn\u001b[0m\u001b[0;34m=\u001b[0m\u001b[0mdataset_group_arn\u001b[0m\u001b[0;34m\u001b[0m\u001b[0m\n\u001b[0m\u001b[1;32m      4\u001b[0m )\n\u001b[1;32m      5\u001b[0m \u001b[0mprint\u001b[0m\u001b[0;34m(\u001b[0m\u001b[0mresponse\u001b[0m\u001b[0;34m[\u001b[0m\u001b[0;34m'eventTrackerArn'\u001b[0m\u001b[0;34m]\u001b[0m\u001b[0;34m)\u001b[0m\u001b[0;34m\u001b[0m\u001b[0m\n",
      "\u001b[0;32m~/anaconda3/envs/python3/lib/python3.6/site-packages/botocore/client.py\u001b[0m in \u001b[0;36m_api_call\u001b[0;34m(self, *args, **kwargs)\u001b[0m\n\u001b[1;32m    314\u001b[0m                     \"%s() only accepts keyword arguments.\" % py_operation_name)\n\u001b[1;32m    315\u001b[0m             \u001b[0;31m# The \"self\" in this scope is referring to the BaseClient.\u001b[0m\u001b[0;34m\u001b[0m\u001b[0;34m\u001b[0m\u001b[0m\n\u001b[0;32m--> 316\u001b[0;31m             \u001b[0;32mreturn\u001b[0m \u001b[0mself\u001b[0m\u001b[0;34m.\u001b[0m\u001b[0m_make_api_call\u001b[0m\u001b[0;34m(\u001b[0m\u001b[0moperation_name\u001b[0m\u001b[0;34m,\u001b[0m \u001b[0mkwargs\u001b[0m\u001b[0;34m)\u001b[0m\u001b[0;34m\u001b[0m\u001b[0m\n\u001b[0m\u001b[1;32m    317\u001b[0m \u001b[0;34m\u001b[0m\u001b[0m\n\u001b[1;32m    318\u001b[0m         \u001b[0m_api_call\u001b[0m\u001b[0;34m.\u001b[0m\u001b[0m__name__\u001b[0m \u001b[0;34m=\u001b[0m \u001b[0mstr\u001b[0m\u001b[0;34m(\u001b[0m\u001b[0mpy_operation_name\u001b[0m\u001b[0;34m)\u001b[0m\u001b[0;34m\u001b[0m\u001b[0m\n",
      "\u001b[0;32m~/anaconda3/envs/python3/lib/python3.6/site-packages/botocore/client.py\u001b[0m in \u001b[0;36m_make_api_call\u001b[0;34m(self, operation_name, api_params)\u001b[0m\n\u001b[1;32m    624\u001b[0m             \u001b[0merror_code\u001b[0m \u001b[0;34m=\u001b[0m \u001b[0mparsed_response\u001b[0m\u001b[0;34m.\u001b[0m\u001b[0mget\u001b[0m\u001b[0;34m(\u001b[0m\u001b[0;34m\"Error\"\u001b[0m\u001b[0;34m,\u001b[0m \u001b[0;34m{\u001b[0m\u001b[0;34m}\u001b[0m\u001b[0;34m)\u001b[0m\u001b[0;34m.\u001b[0m\u001b[0mget\u001b[0m\u001b[0;34m(\u001b[0m\u001b[0;34m\"Code\"\u001b[0m\u001b[0;34m)\u001b[0m\u001b[0;34m\u001b[0m\u001b[0m\n\u001b[1;32m    625\u001b[0m             \u001b[0merror_class\u001b[0m \u001b[0;34m=\u001b[0m \u001b[0mself\u001b[0m\u001b[0;34m.\u001b[0m\u001b[0mexceptions\u001b[0m\u001b[0;34m.\u001b[0m\u001b[0mfrom_code\u001b[0m\u001b[0;34m(\u001b[0m\u001b[0merror_code\u001b[0m\u001b[0;34m)\u001b[0m\u001b[0;34m\u001b[0m\u001b[0m\n\u001b[0;32m--> 626\u001b[0;31m             \u001b[0;32mraise\u001b[0m \u001b[0merror_class\u001b[0m\u001b[0;34m(\u001b[0m\u001b[0mparsed_response\u001b[0m\u001b[0;34m,\u001b[0m \u001b[0moperation_name\u001b[0m\u001b[0;34m)\u001b[0m\u001b[0;34m\u001b[0m\u001b[0m\n\u001b[0m\u001b[1;32m    627\u001b[0m         \u001b[0;32melse\u001b[0m\u001b[0;34m:\u001b[0m\u001b[0;34m\u001b[0m\u001b[0m\n\u001b[1;32m    628\u001b[0m             \u001b[0;32mreturn\u001b[0m \u001b[0mparsed_response\u001b[0m\u001b[0;34m\u001b[0m\u001b[0m\n",
      "\u001b[0;31mResourceAlreadyExistsException\u001b[0m: An error occurred (ResourceAlreadyExistsException) when calling the CreateEventTracker operation: EventTracker arn:aws:personalize:ap-northeast-2:870180618679:event-tracker/ad7ff766 already exists for DatasetGroup arn:aws:personalize:ap-northeast-2:870180618679:dataset-group/DEMO-dataset-group-88138"
     ]
    }
   ],
   "source": [
    "response = personalize.create_event_tracker(\n",
    "    name='MovieClickTracker',\n",
    "    datasetGroupArn=dataset_group_arn\n",
    ")\n",
    "print(response['eventTrackerArn'])\n",
    "print(response['trackingId'])\n",
    "TRACKING_ID = response['trackingId']"
   ]
  },
  {
   "cell_type": "code",
   "execution_count": 97,
   "metadata": {},
   "outputs": [],
   "source": [
    "event_tracker_arn = response['eventTrackerArn']"
   ]
  },
  {
   "cell_type": "markdown",
   "metadata": {},
   "source": [
    "## 소스 데이터 설정\n",
    "\n",
    "위의 추적 ID가 표시되며, 이 ID는 변수에 할당되었으므로 추가 조치가 필요하지 않습니다. 아래 코드 셀을 실행하면 나중에 추천 영화 목록을 출력할 수 있도록 합니다."
   ]
  },
  {
   "cell_type": "code",
   "execution_count": 127,
   "metadata": {},
   "outputs": [
    {
     "name": "stdout",
     "output_type": "stream",
     "text": [
      "   ITEM_ID                               TITLE                         GENRE\n",
      "0        1                    Toy Story (1995)   Animation|Children's|Comedy\n",
      "1        2                      Jumanji (1995)  Adventure|Children's|Fantasy\n",
      "2        3             Grumpier Old Men (1995)                Comedy|Romance\n",
      "3        4            Waiting to Exhale (1995)                  Comedy|Drama\n",
      "4        5  Father of the Bride Part II (1995)                        Comedy\n",
      "      ITEM_ID                       TITLE           GENRE\n",
      "3878     3948     Meet the Parents (2000)          Comedy\n",
      "3879     3949  Requiem for a Dream (2000)           Drama\n",
      "3880     3950            Tigerland (2000)           Drama\n",
      "3881     3951     Two Family House (2000)           Drama\n",
      "3882     3952       Contender, The (2000)  Drama|Thriller\n"
     ]
    },
    {
     "name": "stderr",
     "output_type": "stream",
     "text": [
      "/home/ec2-user/anaconda3/envs/python3/lib/python3.6/site-packages/ipykernel/__main__.py:2: ParserWarning: Falling back to the 'python' engine because the 'c' engine does not support regex separators (separators > 1 char and different from '\\s+' are interpreted as regex); you can avoid this warning by specifying engine='python'.\n",
      "  from ipykernel import kernelapp as app\n"
     ]
    },
    {
     "data": {
      "text/plain": [
       "['Contender, The (2000)']"
      ]
     },
     "execution_count": 127,
     "metadata": {},
     "output_type": "execute_result"
    }
   ],
   "source": [
    "# First load items into memory\n",
    "items_all = pd.read_csv('./ml-1m/movies.dat',sep='::', encoding='latin1',names=['ITEM_ID', 'TITLE', 'GENRE'],)\n",
    "items=items_all.copy()\n",
    "items['to_keep'] = items['ITEM_ID'].apply(lambda x:x in unique_items)\n",
    "items=items[items['to_keep']]\n",
    "del items['to_keep']\n",
    "\n",
    "print(items.head())\n",
    "print(items.tail())\n",
    "\n",
    "def get_movie_title(movie_id):\n",
    "    \"\"\"\n",
    "    Takes in an ID, returns a title\n",
    "    \"\"\"\n",
    "    movie_id = int(movie_id)\n",
    "    movie_title=items[items['ITEM_ID']==movie_id]['TITLE']\n",
    "    return (movie_title.tolist())\n",
    "\n",
    "get_movie_title(3952)\n"
   ]
  },
  {
   "cell_type": "markdown",
   "metadata": {},
   "source": [
    "## 추천 결과 확인\n",
    "\n",
    "먼저 이전 노트북에서 생성했던 추천 영화 데이터프레임을 다시 확인합니다."
   ]
  },
  {
   "cell_type": "code",
   "execution_count": 128,
   "metadata": {},
   "outputs": [
    {
     "data": {
      "text/html": [
       "<div>\n",
       "<style scoped>\n",
       "    .dataframe tbody tr th:only-of-type {\n",
       "        vertical-align: middle;\n",
       "    }\n",
       "\n",
       "    .dataframe tbody tr th {\n",
       "        vertical-align: top;\n",
       "    }\n",
       "\n",
       "    .dataframe thead th {\n",
       "        text-align: right;\n",
       "    }\n",
       "</style>\n",
       "<table border=\"1\" class=\"dataframe\">\n",
       "  <thead>\n",
       "    <tr style=\"text-align: right;\">\n",
       "      <th></th>\n",
       "      <th>OriginalRecs</th>\n",
       "    </tr>\n",
       "  </thead>\n",
       "  <tbody>\n",
       "    <tr>\n",
       "      <th>0</th>\n",
       "      <td>NeverEnding Story, The (1984)</td>\n",
       "    </tr>\n",
       "    <tr>\n",
       "      <th>1</th>\n",
       "      <td>Time Bandits (1981)</td>\n",
       "    </tr>\n",
       "    <tr>\n",
       "      <th>2</th>\n",
       "      <td>Tron (1982)</td>\n",
       "    </tr>\n",
       "    <tr>\n",
       "      <th>3</th>\n",
       "      <td>Willow (1988)</td>\n",
       "    </tr>\n",
       "    <tr>\n",
       "      <th>4</th>\n",
       "      <td>Goonies, The (1985)</td>\n",
       "    </tr>\n",
       "    <tr>\n",
       "      <th>5</th>\n",
       "      <td>Dark Crystal, The (1982)</td>\n",
       "    </tr>\n",
       "    <tr>\n",
       "      <th>6</th>\n",
       "      <td>Dune (1984)</td>\n",
       "    </tr>\n",
       "    <tr>\n",
       "      <th>7</th>\n",
       "      <td>7th Voyage of Sinbad, The (1958)</td>\n",
       "    </tr>\n",
       "    <tr>\n",
       "      <th>8</th>\n",
       "      <td>Willy Wonka and the Chocolate Factory (1971)</td>\n",
       "    </tr>\n",
       "    <tr>\n",
       "      <th>9</th>\n",
       "      <td>Navigator: A Mediaeval Odyssey, The (1988)</td>\n",
       "    </tr>\n",
       "    <tr>\n",
       "      <th>10</th>\n",
       "      <td>Who Framed Roger Rabbit? (1988)</td>\n",
       "    </tr>\n",
       "    <tr>\n",
       "      <th>11</th>\n",
       "      <td>20,000 Leagues Under the Sea (1954)</td>\n",
       "    </tr>\n",
       "    <tr>\n",
       "      <th>12</th>\n",
       "      <td>Beetlejuice (1988)</td>\n",
       "    </tr>\n",
       "    <tr>\n",
       "      <th>13</th>\n",
       "      <td>Splash (1984)</td>\n",
       "    </tr>\n",
       "    <tr>\n",
       "      <th>14</th>\n",
       "      <td>Big (1988)</td>\n",
       "    </tr>\n",
       "    <tr>\n",
       "      <th>15</th>\n",
       "      <td>Superman (1978)</td>\n",
       "    </tr>\n",
       "    <tr>\n",
       "      <th>16</th>\n",
       "      <td>Starman (1984)</td>\n",
       "    </tr>\n",
       "    <tr>\n",
       "      <th>17</th>\n",
       "      <td>Heavy Metal (1981)</td>\n",
       "    </tr>\n",
       "    <tr>\n",
       "      <th>18</th>\n",
       "      <td>Boy Who Could Fly, The (1986)</td>\n",
       "    </tr>\n",
       "    <tr>\n",
       "      <th>19</th>\n",
       "      <td>Evil Dead II (Dead By Dawn) (1987)</td>\n",
       "    </tr>\n",
       "    <tr>\n",
       "      <th>20</th>\n",
       "      <td>Return to Oz (1985)</td>\n",
       "    </tr>\n",
       "    <tr>\n",
       "      <th>21</th>\n",
       "      <td>Highlander (1986)</td>\n",
       "    </tr>\n",
       "    <tr>\n",
       "      <th>22</th>\n",
       "      <td>Abyss, The (1989)</td>\n",
       "    </tr>\n",
       "    <tr>\n",
       "      <th>23</th>\n",
       "      <td>Watership Down (1978)</td>\n",
       "    </tr>\n",
       "    <tr>\n",
       "      <th>24</th>\n",
       "      <td>Legend (1985)</td>\n",
       "    </tr>\n",
       "  </tbody>\n",
       "</table>\n",
       "</div>"
      ],
      "text/plain": [
       "                                    OriginalRecs\n",
       "0                  NeverEnding Story, The (1984)\n",
       "1                            Time Bandits (1981)\n",
       "2                                    Tron (1982)\n",
       "3                                  Willow (1988)\n",
       "4                            Goonies, The (1985)\n",
       "5                       Dark Crystal, The (1982)\n",
       "6                                    Dune (1984)\n",
       "7               7th Voyage of Sinbad, The (1958)\n",
       "8   Willy Wonka and the Chocolate Factory (1971)\n",
       "9     Navigator: A Mediaeval Odyssey, The (1988)\n",
       "10               Who Framed Roger Rabbit? (1988)\n",
       "11           20,000 Leagues Under the Sea (1954)\n",
       "12                            Beetlejuice (1988)\n",
       "13                                 Splash (1984)\n",
       "14                                    Big (1988)\n",
       "15                               Superman (1978)\n",
       "16                                Starman (1984)\n",
       "17                            Heavy Metal (1981)\n",
       "18                 Boy Who Could Fly, The (1986)\n",
       "19            Evil Dead II (Dead By Dawn) (1987)\n",
       "20                           Return to Oz (1985)\n",
       "21                             Highlander (1986)\n",
       "22                             Abyss, The (1989)\n",
       "23                         Watership Down (1978)\n",
       "24                                 Legend (1985)"
      ]
     },
     "execution_count": 128,
     "metadata": {},
     "output_type": "execute_result"
    }
   ],
   "source": [
    "recommendations_df"
   ]
  },
  {
   "cell_type": "markdown",
   "metadata": {},
   "source": [
    "## 사용자 행동 시뮬레이션\n",
    "\n",
    "아래 코드 셀은 특정 item과 상호 작용하는 사용자를 시뮬레이트하는 코드 샘플을 제공하며, 시작할 때와 다른 추천 목록을 얻습니다."
   ]
  },
  {
   "cell_type": "code",
   "execution_count": 129,
   "metadata": {},
   "outputs": [],
   "source": [
    "session_dict = {}"
   ]
  },
  {
   "cell_type": "code",
   "execution_count": 130,
   "metadata": {},
   "outputs": [],
   "source": [
    "def send_movie_click(USER_ID, ITEM_ID):\n",
    "    \"\"\"\n",
    "    Simulates a click as an envent\n",
    "    to send an event to Amazon Personalize's Event Tracker\n",
    "    \"\"\"\n",
    "    # Configure Session\n",
    "    try:\n",
    "        session_ID = session_dict[USER_ID]\n",
    "    except:\n",
    "        session_dict[USER_ID] = str(uuid.uuid1())\n",
    "        session_ID = session_dict[USER_ID]\n",
    "   \n",
    "    # Configure Properties:\n",
    "    event = {\n",
    "    \"itemId\": str(ITEM_ID),\n",
    "    \"eventValue\": float(4)\n",
    "    }\n",
    "    event_json = json.dumps(event)\n",
    "    \n",
    "    # Make Call\n",
    "    personalize_events.put_events(\n",
    "    trackingId = TRACKING_ID, # 이벤트트래커에서 생성한 아이디\n",
    "    userId= USER_ID,\n",
    "    sessionId = session_ID,\n",
    "    eventList = [{\n",
    "        'sentAt': int(time.time()),\n",
    "        'eventType': 'RATING',\n",
    "        'properties': event_json\n",
    "        }]\n",
    ")\n",
    "    \n",
    "    \n",
    "    "
   ]
  },
  {
   "cell_type": "markdown",
   "metadata": {},
   "source": [
    "아래 코드 셀에서 사용자가 특정 제목을 클릭한 것처럼 이벤트 추적기가 업데이트됩니다.\n",
    "\n",
    "아래 셀에서 생성된 테이블이 추천 결과들을 이동시키지 않으면 위 셀에서 다른 임의의 3자리 숫자를 시도하고 두 셀을 모두 다시 실행해 주세요. \n",
    "여러분은 세 번째 열에서 추천 결과를 확인할 수 있습니다."
   ]
  },
  {
   "cell_type": "code",
   "execution_count": 134,
   "metadata": {},
   "outputs": [],
   "source": [
    "# Pick a movie, we will use ID 270 or Miracle on 34th Street\n",
    "movie_to_click = 3952\n",
    "movie_title_clicked = get_movie_title(movie_to_click)\n",
    "send_movie_click(USER_ID=str(user_id), ITEM_ID=movie_to_click)"
   ]
  },
  {
   "cell_type": "code",
   "execution_count": 135,
   "metadata": {},
   "outputs": [
    {
     "data": {
      "text/plain": [
       "(4205, 3952, ['Contender, The (2000)'])"
      ]
     },
     "execution_count": 135,
     "metadata": {},
     "output_type": "execute_result"
    }
   ],
   "source": [
    "user_id, movie_to_click, movie_title_clicked"
   ]
  },
  {
   "cell_type": "markdown",
   "metadata": {},
   "source": [
    "이 블록을 실행한 후에는 이벤트 추적이 활성화되어 있고 이벤트를 personalize 서비스로 보낸 추천 영화들의 변경 사항이 표시됩니다."
   ]
  },
  {
   "cell_type": "code",
   "execution_count": 136,
   "metadata": {},
   "outputs": [
    {
     "name": "stdout",
     "output_type": "stream",
     "text": [
      "Recommendations for user:  4205\n"
     ]
    },
    {
     "data": {
      "text/html": [
       "<div>\n",
       "<style scoped>\n",
       "    .dataframe tbody tr th:only-of-type {\n",
       "        vertical-align: middle;\n",
       "    }\n",
       "\n",
       "    .dataframe tbody tr th {\n",
       "        vertical-align: top;\n",
       "    }\n",
       "\n",
       "    .dataframe thead th {\n",
       "        text-align: right;\n",
       "    }\n",
       "</style>\n",
       "<table border=\"1\" class=\"dataframe\">\n",
       "  <thead>\n",
       "    <tr style=\"text-align: right;\">\n",
       "      <th></th>\n",
       "      <th>OriginalRecs</th>\n",
       "      <th>(Jumanji (1995),)</th>\n",
       "      <th>(Contender, The (2000),)</th>\n",
       "    </tr>\n",
       "  </thead>\n",
       "  <tbody>\n",
       "    <tr>\n",
       "      <th>0</th>\n",
       "      <td>NeverEnding Story, The (1984)</td>\n",
       "      <td>NeverEnding Story, The (1984)</td>\n",
       "      <td>Jaws (1975)</td>\n",
       "    </tr>\n",
       "    <tr>\n",
       "      <th>1</th>\n",
       "      <td>Time Bandits (1981)</td>\n",
       "      <td>Goonies, The (1985)</td>\n",
       "      <td>Toy Story (1995)</td>\n",
       "    </tr>\n",
       "    <tr>\n",
       "      <th>2</th>\n",
       "      <td>Tron (1982)</td>\n",
       "      <td>Tron (1982)</td>\n",
       "      <td>X-Men (2000)</td>\n",
       "    </tr>\n",
       "    <tr>\n",
       "      <th>3</th>\n",
       "      <td>Willow (1988)</td>\n",
       "      <td>Legend (1985)</td>\n",
       "      <td>Wrong Trousers, The (1993)</td>\n",
       "    </tr>\n",
       "    <tr>\n",
       "      <th>4</th>\n",
       "      <td>Goonies, The (1985)</td>\n",
       "      <td>Dark Crystal, The (1982)</td>\n",
       "      <td>Legend (1985)</td>\n",
       "    </tr>\n",
       "    <tr>\n",
       "      <th>5</th>\n",
       "      <td>Dark Crystal, The (1982)</td>\n",
       "      <td>Dune (1984)</td>\n",
       "      <td>Fargo (1996)</td>\n",
       "    </tr>\n",
       "    <tr>\n",
       "      <th>6</th>\n",
       "      <td>Dune (1984)</td>\n",
       "      <td>Hook (1991)</td>\n",
       "      <td>Aliens (1986)</td>\n",
       "    </tr>\n",
       "    <tr>\n",
       "      <th>7</th>\n",
       "      <td>7th Voyage of Sinbad, The (1958)</td>\n",
       "      <td>Willow (1988)</td>\n",
       "      <td>L.A. Confidential (1997)</td>\n",
       "    </tr>\n",
       "    <tr>\n",
       "      <th>8</th>\n",
       "      <td>Willy Wonka and the Chocolate Factory (1971)</td>\n",
       "      <td>Return to Oz (1985)</td>\n",
       "      <td>Princess Bride, The (1987)</td>\n",
       "    </tr>\n",
       "    <tr>\n",
       "      <th>9</th>\n",
       "      <td>Navigator: A Mediaeval Odyssey, The (1988)</td>\n",
       "      <td>20,000 Leagues Under the Sea (1954)</td>\n",
       "      <td>Boy Who Could Fly, The (1986)</td>\n",
       "    </tr>\n",
       "    <tr>\n",
       "      <th>10</th>\n",
       "      <td>Who Framed Roger Rabbit? (1988)</td>\n",
       "      <td>Nutty Professor, The (1996)</td>\n",
       "      <td>E.T. the Extra-Terrestrial (1982)</td>\n",
       "    </tr>\n",
       "    <tr>\n",
       "      <th>11</th>\n",
       "      <td>20,000 Leagues Under the Sea (1954)</td>\n",
       "      <td>Teenage Mutant Ninja Turtles (1990)</td>\n",
       "      <td>Fugitive, The (1993)</td>\n",
       "    </tr>\n",
       "    <tr>\n",
       "      <th>12</th>\n",
       "      <td>Beetlejuice (1988)</td>\n",
       "      <td>Boy Who Could Fly, The (1986)</td>\n",
       "      <td>Return to Oz (1985)</td>\n",
       "    </tr>\n",
       "    <tr>\n",
       "      <th>13</th>\n",
       "      <td>Splash (1984)</td>\n",
       "      <td>Santa Clause, The (1994)</td>\n",
       "      <td>Airplane! (1980)</td>\n",
       "    </tr>\n",
       "    <tr>\n",
       "      <th>14</th>\n",
       "      <td>Big (1988)</td>\n",
       "      <td>7th Voyage of Sinbad, The (1958)</td>\n",
       "      <td>Star Wars: Episode V - The Empire Strikes Back...</td>\n",
       "    </tr>\n",
       "    <tr>\n",
       "      <th>15</th>\n",
       "      <td>Superman (1978)</td>\n",
       "      <td>Santa Claus: The Movie (1985)</td>\n",
       "      <td>7th Voyage of Sinbad, The (1958)</td>\n",
       "    </tr>\n",
       "    <tr>\n",
       "      <th>16</th>\n",
       "      <td>Starman (1984)</td>\n",
       "      <td>Forever Young (1992)</td>\n",
       "      <td>Beetlejuice (1988)</td>\n",
       "    </tr>\n",
       "    <tr>\n",
       "      <th>17</th>\n",
       "      <td>Heavy Metal (1981)</td>\n",
       "      <td>Escape to Witch Mountain (1975)</td>\n",
       "      <td>Dune (1984)</td>\n",
       "    </tr>\n",
       "    <tr>\n",
       "      <th>18</th>\n",
       "      <td>Boy Who Could Fly, The (1986)</td>\n",
       "      <td>Willy Wonka and the Chocolate Factory (1971)</td>\n",
       "      <td>Star Wars: Episode IV - A New Hope (1977)</td>\n",
       "    </tr>\n",
       "    <tr>\n",
       "      <th>19</th>\n",
       "      <td>Evil Dead II (Dead By Dawn) (1987)</td>\n",
       "      <td>Navigator: A Mediaeval Odyssey, The (1988)</td>\n",
       "      <td>NeverEnding Story II: The Next Chapter, The (1...</td>\n",
       "    </tr>\n",
       "    <tr>\n",
       "      <th>20</th>\n",
       "      <td>Return to Oz (1985)</td>\n",
       "      <td>Heavy Metal (1981)</td>\n",
       "      <td>Citizen Kane (1941)</td>\n",
       "    </tr>\n",
       "    <tr>\n",
       "      <th>21</th>\n",
       "      <td>Highlander (1986)</td>\n",
       "      <td>Who Framed Roger Rabbit? (1988)</td>\n",
       "      <td>Tron (1982)</td>\n",
       "    </tr>\n",
       "    <tr>\n",
       "      <th>22</th>\n",
       "      <td>Abyss, The (1989)</td>\n",
       "      <td>Splash (1984)</td>\n",
       "      <td>Chicken Run (2000)</td>\n",
       "    </tr>\n",
       "    <tr>\n",
       "      <th>23</th>\n",
       "      <td>Watership Down (1978)</td>\n",
       "      <td>Absent Minded Professor, The (1961)</td>\n",
       "      <td>Navigator: A Mediaeval Odyssey, The (1988)</td>\n",
       "    </tr>\n",
       "    <tr>\n",
       "      <th>24</th>\n",
       "      <td>Legend (1985)</td>\n",
       "      <td>NeverEnding Story II: The Next Chapter, The (1...</td>\n",
       "      <td>Cell, The (2000)</td>\n",
       "    </tr>\n",
       "  </tbody>\n",
       "</table>\n",
       "</div>"
      ],
      "text/plain": [
       "                                    OriginalRecs  \\\n",
       "0                  NeverEnding Story, The (1984)   \n",
       "1                            Time Bandits (1981)   \n",
       "2                                    Tron (1982)   \n",
       "3                                  Willow (1988)   \n",
       "4                            Goonies, The (1985)   \n",
       "5                       Dark Crystal, The (1982)   \n",
       "6                                    Dune (1984)   \n",
       "7               7th Voyage of Sinbad, The (1958)   \n",
       "8   Willy Wonka and the Chocolate Factory (1971)   \n",
       "9     Navigator: A Mediaeval Odyssey, The (1988)   \n",
       "10               Who Framed Roger Rabbit? (1988)   \n",
       "11           20,000 Leagues Under the Sea (1954)   \n",
       "12                            Beetlejuice (1988)   \n",
       "13                                 Splash (1984)   \n",
       "14                                    Big (1988)   \n",
       "15                               Superman (1978)   \n",
       "16                                Starman (1984)   \n",
       "17                            Heavy Metal (1981)   \n",
       "18                 Boy Who Could Fly, The (1986)   \n",
       "19            Evil Dead II (Dead By Dawn) (1987)   \n",
       "20                           Return to Oz (1985)   \n",
       "21                             Highlander (1986)   \n",
       "22                             Abyss, The (1989)   \n",
       "23                         Watership Down (1978)   \n",
       "24                                 Legend (1985)   \n",
       "\n",
       "                                    (Jumanji (1995),)  \\\n",
       "0                       NeverEnding Story, The (1984)   \n",
       "1                                 Goonies, The (1985)   \n",
       "2                                         Tron (1982)   \n",
       "3                                       Legend (1985)   \n",
       "4                            Dark Crystal, The (1982)   \n",
       "5                                         Dune (1984)   \n",
       "6                                         Hook (1991)   \n",
       "7                                       Willow (1988)   \n",
       "8                                 Return to Oz (1985)   \n",
       "9                 20,000 Leagues Under the Sea (1954)   \n",
       "10                        Nutty Professor, The (1996)   \n",
       "11                Teenage Mutant Ninja Turtles (1990)   \n",
       "12                      Boy Who Could Fly, The (1986)   \n",
       "13                           Santa Clause, The (1994)   \n",
       "14                   7th Voyage of Sinbad, The (1958)   \n",
       "15                      Santa Claus: The Movie (1985)   \n",
       "16                               Forever Young (1992)   \n",
       "17                    Escape to Witch Mountain (1975)   \n",
       "18       Willy Wonka and the Chocolate Factory (1971)   \n",
       "19         Navigator: A Mediaeval Odyssey, The (1988)   \n",
       "20                                 Heavy Metal (1981)   \n",
       "21                    Who Framed Roger Rabbit? (1988)   \n",
       "22                                      Splash (1984)   \n",
       "23                Absent Minded Professor, The (1961)   \n",
       "24  NeverEnding Story II: The Next Chapter, The (1...   \n",
       "\n",
       "                             (Contender, The (2000),)  \n",
       "0                                         Jaws (1975)  \n",
       "1                                    Toy Story (1995)  \n",
       "2                                        X-Men (2000)  \n",
       "3                          Wrong Trousers, The (1993)  \n",
       "4                                       Legend (1985)  \n",
       "5                                        Fargo (1996)  \n",
       "6                                       Aliens (1986)  \n",
       "7                            L.A. Confidential (1997)  \n",
       "8                          Princess Bride, The (1987)  \n",
       "9                       Boy Who Could Fly, The (1986)  \n",
       "10                  E.T. the Extra-Terrestrial (1982)  \n",
       "11                               Fugitive, The (1993)  \n",
       "12                                Return to Oz (1985)  \n",
       "13                                   Airplane! (1980)  \n",
       "14  Star Wars: Episode V - The Empire Strikes Back...  \n",
       "15                   7th Voyage of Sinbad, The (1958)  \n",
       "16                                 Beetlejuice (1988)  \n",
       "17                                        Dune (1984)  \n",
       "18          Star Wars: Episode IV - A New Hope (1977)  \n",
       "19  NeverEnding Story II: The Next Chapter, The (1...  \n",
       "20                                Citizen Kane (1941)  \n",
       "21                                        Tron (1982)  \n",
       "22                                 Chicken Run (2000)  \n",
       "23         Navigator: A Mediaeval Odyssey, The (1988)  \n",
       "24                                   Cell, The (2000)  "
      ]
     },
     "execution_count": 136,
     "metadata": {},
     "output_type": "execute_result"
    }
   ],
   "source": [
    "get_recommendations_response = personalize_runtime.get_recommendations(\n",
    "    campaignArn = hrnn_campaign_arn,\n",
    "    userId = str(user_id),\n",
    ")\n",
    "\n",
    "print(\"Recommendations for user: \", user_id)\n",
    "\n",
    "item_list = get_recommendations_response['itemList']\n",
    "\n",
    "recommendation_list = []\n",
    "\n",
    "for item in item_list:\n",
    "    title = get_movie_title(item['itemId'])\n",
    "    recommendation_list.append(title)\n",
    "    \n",
    "new_rec_DF = pd.DataFrame(recommendation_list, columns = [movie_title_clicked])\n",
    "\n",
    "recommendations_df = recommendations_df.join(new_rec_DF)\n",
    "recommendations_df"
   ]
  },
  {
   "cell_type": "markdown",
   "metadata": {},
   "source": [
    "## 결론\n",
    "\n",
    "사용자가 상호 작용하는 영화를 변경하여 추천 사항이 변경되었음을 알 수 있습니다. 이 시스템은 사용자가 item 모음과 상호 작용하는 모든 응용 프로그램으로 확장할 수 있습니다. 이러한 도구는 언제든지 사용 가능한 데이터로 가능한 것을 풀다운하여 탐색할 수 있습니다.\n",
    "\n",
    "Cleanup 노트북에 필요한 값을 저장하려면 아래의 셀을 실행해 주세요.\n",
    "\n",
    "마지막으로 계정에서 본 핸즈온에서 생성했던 리소스들을 제거할 준비가 되면 `Cleanup.ipynb` 노트북을 열고 코드 셀들을 실행해 주세요."
   ]
  },
  {
   "cell_type": "code",
   "execution_count": 137,
   "metadata": {},
   "outputs": [
    {
     "name": "stdout",
     "output_type": "stream",
     "text": [
      "Stored 'event_tracker_arn' (str)\n"
     ]
    }
   ],
   "source": [
    "%store event_tracker_arn"
   ]
  }
 ],
 "metadata": {
  "kernelspec": {
   "display_name": "conda_python3",
   "language": "python",
   "name": "conda_python3"
  },
  "language_info": {
   "codemirror_mode": {
    "name": "ipython",
    "version": 3
   },
   "file_extension": ".py",
   "mimetype": "text/x-python",
   "name": "python",
   "nbconvert_exporter": "python",
   "pygments_lexer": "ipython3",
   "version": "3.6.5"
  }
 },
 "nbformat": 4,
 "nbformat_minor": 4
}
